{
 "cells": [
  {
   "cell_type": "code",
   "execution_count": 5,
   "metadata": {},
   "outputs": [],
   "source": [
    "'''\n",
    "Notebook specifically for fine-grained analysis of results\n",
    "e.g., Spandan's histogram idea \n",
    "(Note, code is messy and reuses some functions originally written in eval_analysis file) \n",
    "'''\n",
    "\n",
    "import imageio\n",
    "import numpy as np\n",
    "import os\n",
    "\n",
    "from PIL import Image\n",
    "import matplotlib.pyplot as plt\n",
    "import matplotlib.gridspec as gridspec\n",
    "\n",
    "import pandas as pd\n",
    "import numpy as np"
   ]
  },
  {
   "cell_type": "code",
   "execution_count": 6,
   "metadata": {},
   "outputs": [],
   "source": [
    "main_results_dir = '/om/user/katiemc/occupancy_networks/out/unconditional'\n",
    "num_training_objs = [1,2,100,1000,4000]\n",
    "obj_types = ['chairs'] \n",
    "reconstruction_eval_splits = ['train', 'test']"
   ]
  },
  {
   "cell_type": "code",
   "execution_count": 7,
   "metadata": {},
   "outputs": [
    {
     "name": "stdout",
     "output_type": "stream",
     "text": [
      "\n",
      "Currently looking at 4000, train\n"
     ]
    },
    {
     "data": {
      "text/html": [
       "<div>\n",
       "<style scoped>\n",
       "    .dataframe tbody tr th:only-of-type {\n",
       "        vertical-align: middle;\n",
       "    }\n",
       "\n",
       "    .dataframe tbody tr th {\n",
       "        vertical-align: top;\n",
       "    }\n",
       "\n",
       "    .dataframe thead th {\n",
       "        text-align: right;\n",
       "    }\n",
       "</style>\n",
       "<table border=\"1\" class=\"dataframe\">\n",
       "  <thead>\n",
       "    <tr style=\"text-align: right;\">\n",
       "      <th></th>\n",
       "      <th>accuracy (mesh)</th>\n",
       "      <th>accuracy2 (mesh)</th>\n",
       "      <th>chamfer-L1 (mesh)</th>\n",
       "      <th>chamfer-L2 (mesh)</th>\n",
       "      <th>class id</th>\n",
       "      <th>class name</th>\n",
       "      <th>completeness (mesh)</th>\n",
       "      <th>completeness2 (mesh)</th>\n",
       "      <th>iou (mesh)</th>\n",
       "      <th>modelname</th>\n",
       "      <th>normals (mesh)</th>\n",
       "      <th>normals accuracy (mesh)</th>\n",
       "      <th>normals completeness (mesh)</th>\n",
       "    </tr>\n",
       "    <tr>\n",
       "      <th>idx</th>\n",
       "      <th></th>\n",
       "      <th></th>\n",
       "      <th></th>\n",
       "      <th></th>\n",
       "      <th></th>\n",
       "      <th></th>\n",
       "      <th></th>\n",
       "      <th></th>\n",
       "      <th></th>\n",
       "      <th></th>\n",
       "      <th></th>\n",
       "      <th></th>\n",
       "      <th></th>\n",
       "    </tr>\n",
       "  </thead>\n",
       "  <tbody>\n",
       "    <tr>\n",
       "      <td>0</td>\n",
       "      <td>0.070646</td>\n",
       "      <td>0.006742</td>\n",
       "      <td>0.085436</td>\n",
       "      <td>0.010770</td>\n",
       "      <td>03001627</td>\n",
       "      <td>chair</td>\n",
       "      <td>0.100225</td>\n",
       "      <td>0.014799</td>\n",
       "      <td>0.037229</td>\n",
       "      <td>1007e20d5e811b308351982a6e40cf41</td>\n",
       "      <td>0.561300</td>\n",
       "      <td>0.600265</td>\n",
       "      <td>0.522335</td>\n",
       "    </tr>\n",
       "    <tr>\n",
       "      <td>1</td>\n",
       "      <td>0.044989</td>\n",
       "      <td>0.003237</td>\n",
       "      <td>0.068222</td>\n",
       "      <td>0.008439</td>\n",
       "      <td>03001627</td>\n",
       "      <td>chair</td>\n",
       "      <td>0.091456</td>\n",
       "      <td>0.013642</td>\n",
       "      <td>0.057106</td>\n",
       "      <td>1013f70851210a618f2e765c4a8ed3d</td>\n",
       "      <td>0.705847</td>\n",
       "      <td>0.743912</td>\n",
       "      <td>0.667781</td>\n",
       "    </tr>\n",
       "    <tr>\n",
       "      <td>2</td>\n",
       "      <td>0.064132</td>\n",
       "      <td>0.007135</td>\n",
       "      <td>0.050596</td>\n",
       "      <td>0.004956</td>\n",
       "      <td>03001627</td>\n",
       "      <td>chair</td>\n",
       "      <td>0.037060</td>\n",
       "      <td>0.002777</td>\n",
       "      <td>0.166862</td>\n",
       "      <td>1015e71a0d21b127de03ab2a27ba7531</td>\n",
       "      <td>0.698410</td>\n",
       "      <td>0.653590</td>\n",
       "      <td>0.743230</td>\n",
       "    </tr>\n",
       "  </tbody>\n",
       "</table>\n",
       "</div>"
      ],
      "text/plain": [
       "     accuracy (mesh)  accuracy2 (mesh)  chamfer-L1 (mesh)  chamfer-L2 (mesh)  \\\n",
       "idx                                                                            \n",
       "0           0.070646          0.006742           0.085436           0.010770   \n",
       "1           0.044989          0.003237           0.068222           0.008439   \n",
       "2           0.064132          0.007135           0.050596           0.004956   \n",
       "\n",
       "     class id class name  completeness (mesh)  completeness2 (mesh)  \\\n",
       "idx                                                                   \n",
       "0    03001627      chair             0.100225              0.014799   \n",
       "1    03001627      chair             0.091456              0.013642   \n",
       "2    03001627      chair             0.037060              0.002777   \n",
       "\n",
       "     iou (mesh)                         modelname  normals (mesh)  \\\n",
       "idx                                                                 \n",
       "0      0.037229  1007e20d5e811b308351982a6e40cf41        0.561300   \n",
       "1      0.057106   1013f70851210a618f2e765c4a8ed3d        0.705847   \n",
       "2      0.166862  1015e71a0d21b127de03ab2a27ba7531        0.698410   \n",
       "\n",
       "     normals accuracy (mesh)  normals completeness (mesh)  \n",
       "idx                                                        \n",
       "0                   0.600265                     0.522335  \n",
       "1                   0.743912                     0.667781  \n",
       "2                   0.653590                     0.743230  "
      ]
     },
     "execution_count": 7,
     "metadata": {},
     "output_type": "execute_result"
    }
   ],
   "source": [
    "obj_type = \"chairs\" \n",
    "num_objs = 4000\n",
    "split = \"train\"\n",
    "result_dir = f'{main_results_dir}/{obj_type}{num_objs}/generation/{split}/'\n",
    "print(f'\\nCurrently looking at {num_objs}, {split}')\n",
    "df = pd.read_pickle(result_dir + 'eval_input_full.pkl')\n",
    "df.head(3)"
   ]
  },
  {
   "cell_type": "code",
   "execution_count": 8,
   "metadata": {},
   "outputs": [
    {
     "data": {
      "text/plain": [
       "array([[<matplotlib.axes._subplots.AxesSubplot object at 0x2abba6cf15d0>]],\n",
       "      dtype=object)"
      ]
     },
     "execution_count": 8,
     "metadata": {},
     "output_type": "execute_result"
    },
    {
     "data": {
      "image/png": "[encoded data removed]",
      "text/plain": [
       "<Figure size 432x288 with 1 Axes>"
      ]
     },
     "metadata": {
      "needs_background": "light"
     },
     "output_type": "display_data"
    }
   ],
   "source": [
    "attr = 'iou (mesh)'\n",
    "df.hist(attr)"
   ]
  },
  {
   "cell_type": "code",
   "execution_count": 9,
   "metadata": {},
   "outputs": [
    {
     "name": "stdout",
     "output_type": "stream",
     "text": [
      "\n",
      "Currently looking at 1, train\n",
      "\n",
      "Currently looking at 2, train\n",
      "\n",
      "Currently looking at 100, train\n",
      "\n",
      "Currently looking at 1000, train\n",
      "\n",
      "Currently looking at 4000, train\n"
     ]
    }
   ],
   "source": [
    "# create multi-panel plot comparing histograms across sample number  \n",
    "rows = 1\n",
    "cols = len(num_training_objs)\n",
    "attr = 'iou (mesh)'\n",
    "\n",
    "f = plt.figure(figsize=(10, 4), dpi=600)\n",
    "gs0 = gridspec.GridSpec(rows, cols, figure=f)\n",
    "\n",
    "for x in range(rows):\n",
    "    for y in range(cols):\n",
    "        ax = f.add_subplot(gs0[x, y])\n",
    "        num_objs = num_training_objs[y]\n",
    "        result_dir = f'{main_results_dir}/{obj_type}{num_objs}/generation/{split}/'\n",
    "        print(f'\\nCurrently looking at {num_objs}, {split}')\n",
    "        df = pd.read_pickle(result_dir + 'eval_input_full.pkl')\n",
    "        df.hist(attr,ax=ax,bins=range(0,1))\n",
    "        if x ==0: ax.set_title(f'{num_objs}')\n",
    "plt.xlabel(\"IoU\")\n",
    "plt.title(\"Sample Size vs. Volumeteric IoU\")\n",
    "plt.close(f)\n",
    "f.tight_layout()\n",
    "f.savefig(f'{obj_type}_hist_{split}.png', bbox='tight', bbox_inches='tight', pad_inches=0.)"
   ]
  },
  {
   "cell_type": "code",
   "execution_count": 10,
   "metadata": {},
   "outputs": [
    {
     "name": "stdout",
     "output_type": "stream",
     "text": [
      "\n",
      "Currently looking at 100, train\n",
      "\n",
      "Currently looking at 1000, train\n",
      "\n",
      "Currently looking at 4000, train\n"
     ]
    }
   ],
   "source": [
    "# fine-grained analysis of the best/worst k objs per model\n",
    "\n",
    "analyze_nums = [100, 1000, 4000]\n",
    "k = 20 \n",
    "worst_models = {}\n",
    "best_models = {}\n",
    "\n",
    "for num_objs in analyze_nums: \n",
    "    result_dir = f'{main_results_dir}/{obj_type}{num_objs}/generation/{split}/'\n",
    "    print(f'\\nCurrently looking at {num_objs}, {split}')\n",
    "    df = pd.read_pickle(result_dir + 'eval_input_full.pkl')\n",
    "    worst_models[num_objs] = list(df.sort_values(by=[attr],ascending=True)['modelname'])[:k]\n",
    "    best_models[num_objs] = list(df.sort_values(by=[attr],ascending=False)['modelname'])[:k]"
   ]
  },
  {
   "cell_type": "code",
   "execution_count": 11,
   "metadata": {},
   "outputs": [
    {
     "name": "stdout",
     "output_type": "stream",
     "text": [
      "Worst Fit Objs Overlap: 0.0\n",
      "Best Fit Objs Overlap: 0.05\n"
     ]
    }
   ],
   "source": [
    "# check proportion of best + worst that have overlap \n",
    "# use set intersection \n",
    "k_worst_overlap = set(worst_models[100]).intersection(set(worst_models[1000]))#, set(worst_models[4000]))\n",
    "print(\"Worst Fit Objs Overlap: \" + str(len(k_worst_overlap)/k))\n",
    "\n",
    "k_best_overlap = set(best_models[100]).intersection(set(best_models[1000]))#, set(best_models[4000]))\n",
    "print(\"Best Fit Objs Overlap: \" + str(len(k_best_overlap)/k))"
   ]
  },
  {
   "cell_type": "code",
   "execution_count": 70,
   "metadata": {},
   "outputs": [
    {
     "data": {
      "text/plain": [
       "{'11e0f0dfd3d0b22130ddb6ead95f49cc'}"
      ]
     },
     "execution_count": 70,
     "metadata": {},
     "output_type": "execute_result"
    }
   ],
   "source": [
    "k_worst_overlap"
   ]
  },
  {
   "cell_type": "code",
   "execution_count": 18,
   "metadata": {},
   "outputs": [],
   "source": [
    "import cv2\n",
    "def plot_gt(obj_name, ax,\n",
    "            view_file = '023.jpg', shapenet_dir='/om/user/katiemc/occupancy_networks/data/ShapeNet/03001627/'):\n",
    "    \n",
    "    #img = imageio.imread(f'{shapenet_dir}{obj_name}/img_choy2016/{view_file}')\n",
    "    img = cv2.imread(f'{shapenet_dir}{obj_name}/img_choy2016/{view_file}')\n",
    "    ax.imshow(img)\n",
    "    ax.set_yticklabels([])\n",
    "    ax.set_xticklabels([])\n",
    "    ax.set_frame_on(False)\n",
    "    ax.tick_params(top=False, left=False, bottom=False, right=False)"
   ]
  },
  {
   "cell_type": "code",
   "execution_count": 23,
   "metadata": {},
   "outputs": [],
   "source": [
    "# multi-panel plot for the 20 best/worst (note: fixed for 20 currently)\n",
    "rows = 4\n",
    "cols = 5\n",
    "fit_types = [\"Best\", \"Worst\"]\n",
    "fit_dir = \"./chair_best_worst_fits/\"\n",
    "for num_objs in analyze_nums: \n",
    "    for fit_type in fit_types: \n",
    "        idx = 0 \n",
    "        f = plt.figure(figsize=(6,4), dpi=600)\n",
    "        gs0 = gridspec.GridSpec(rows, cols, figure=f)\n",
    "        for x in range(rows):\n",
    "            for y in range(cols):\n",
    "                ax = f.add_subplot(gs0[x, y])\n",
    "                if fit_type == \"Worst\": plot_gt(worst_models[num_objs][idx], ax)\n",
    "                else: plot_gt(best_models[num_objs][idx], ax)\n",
    "                idx += 1 \n",
    "                if x == 0 and y == 2: ax.set_title(f'{fit_type} Fits: {num_objs}')#, fontsize=18)\n",
    "        plt.axis('off')\n",
    "        plt.close(f)\n",
    "        f.tight_layout()\n",
    "        f.savefig(f'{fit_dir}fitObjs_{num_objs}_{fit_type}.png', bbox='tight', bbox_inches='tight', pad_inches=0.)"
   ]
  },
  {
   "cell_type": "code",
   "execution_count": null,
   "metadata": {},
   "outputs": [],
   "source": []
  },
  {
   "cell_type": "code",
   "execution_count": null,
   "metadata": {},
   "outputs": [],
   "source": []
  },
  {
   "cell_type": "code",
   "execution_count": null,
   "metadata": {},
   "outputs": [],
   "source": []
  }
 ],
 "metadata": {
  "kernelspec": {
   "display_name": "Python 3",
   "language": "python",
   "name": "python3"
  },
  "language_info": {
   "codemirror_mode": {
    "name": "ipython",
    "version": 3
   },
   "file_extension": ".py",
   "mimetype": "text/x-python",
   "name": "python",
   "nbconvert_exporter": "python",
   "pygments_lexer": "ipython3",
   "version": "3.7.4"
  }
 },
 "nbformat": 4,
 "nbformat_minor": 4
}
