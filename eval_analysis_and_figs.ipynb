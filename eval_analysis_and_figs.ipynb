{
 "cells": [
  {
   "cell_type": "code",
   "execution_count": 1,
   "metadata": {},
   "outputs": [],
   "source": [
    "'''\n",
    "Notebook for analyzing evaluation results and generating figures\n",
    "Note, code is messy currently! \n",
    "Evaluation code primarily written to make it easy for me to write into tables by hand. \n",
    "'''\n",
    "\n",
    "import imageio\n",
    "import numpy as np\n",
    "import os\n",
    "\n",
    "from PIL import Image\n",
    "import matplotlib.pyplot as plt\n",
    "import matplotlib.gridspec as gridspec\n",
    "\n",
    "import pandas as pd\n",
    "import numpy as np\n",
    "\n",
    "import cv2"
   ]
  },
  {
   "cell_type": "code",
   "execution_count": 4,
   "metadata": {},
   "outputs": [],
   "source": [
    "main_results_dir = '/om/user/katiemc/occupancy_networks/out/unconditional'\n",
    "num_training_objs = [1,2,100,1000,4000]\n",
    "obj_types = ['chairs'] \n",
    "reconstruction_eval_splits = ['train', 'test']"
   ]
  },
  {
   "cell_type": "code",
   "execution_count": 5,
   "metadata": {},
   "outputs": [
    {
     "name": "stdout",
     "output_type": "stream",
     "text": [
      "\n",
      "Currently looking at 1, train\n",
      "Stat: iou (mesh), 0.7561857104301453\n",
      "Stat: chamfer-L1 (mesh), 0.007469882257282734\n",
      "Stat: normals (mesh), 0.8914806071247379\n",
      "\n",
      "Currently looking at 2, train\n",
      "Stat: iou (mesh), 0.48183680325746536\n",
      "Stat: chamfer-L1 (mesh), 0.0393240530975163\n",
      "Stat: normals (mesh), 0.7331621148525583\n",
      "\n",
      "Currently looking at 100, train\n",
      "Stat: iou (mesh), 0.1193414361588657\n",
      "Stat: chamfer-L1 (mesh), 0.08647184675992137\n",
      "Stat: normals (mesh), 0.6224677938848618\n",
      "\n",
      "Currently looking at 1000, train\n",
      "Stat: iou (mesh), 0.11395175536620081\n",
      "Stat: chamfer-L1 (mesh), 0.08768203408570141\n",
      "Stat: normals (mesh), 0.6594396265790299\n",
      "\n",
      "Currently looking at 4000, train\n",
      "Stat: iou (mesh), 0.11449543321443525\n",
      "Stat: chamfer-L1 (mesh), 0.08772464363789186\n",
      "Stat: normals (mesh), 0.6591979270014551\n"
     ]
    }
   ],
   "source": [
    "metric = 'mean'\n",
    "split = 'train'\n",
    "for obj_type in obj_types:\n",
    "    for num_objs in num_training_objs:\n",
    "            result_dir = f'{main_results_dir}/{obj_type}{num_objs}/generation/{split}/'\n",
    "            print(f'\\nCurrently looking at {num_objs}, {split}')\n",
    "            df = pd.read_pickle(result_dir + 'eval_input_full.pkl')\n",
    "            df_descr = df.describe()\n",
    "            stats = ['iou (mesh)', 'chamfer-L1 (mesh)', 'normals (mesh)']\n",
    "            for stat in stats: print(f'Stat: {stat}, {df_descr[stat][metric]}')"
   ]
  },
  {
   "cell_type": "code",
   "execution_count": 5,
   "metadata": {},
   "outputs": [
    {
     "name": "stdout",
     "output_type": "stream",
     "text": [
      "\n",
      "Currently looking at 1, train\n",
      "Stat: iou (mesh), 0.7561857104301453\n",
      "Stat: chamfer-L1 (mesh), 0.007469882257282734\n",
      "Stat: normals (mesh), 0.8914806071247379\n",
      "\n",
      "Currently looking at 2, train\n",
      "Stat: iou (mesh), 0.9293515086174011\n",
      "Stat: chamfer-L1 (mesh), 0.005226508714258671\n",
      "Stat: normals (mesh), 0.8954116006393751\n",
      "\n",
      "Currently looking at 100, train\n",
      "Stat: iou (mesh), 0.5593036413192749\n",
      "Stat: chamfer-L1 (mesh), 0.034817811101675034\n",
      "Stat: normals (mesh), 0.7961704003013116\n",
      "\n",
      "Currently looking at 1000, train\n",
      "Stat: iou (mesh), 0.6221321821212769\n",
      "Stat: chamfer-L1 (mesh), 0.0175645649433136\n",
      "Stat: normals (mesh), 0.8541360750857042\n",
      "\n",
      "Currently looking at 4000, train\n",
      "Stat: iou (mesh), 0.6633982062339783\n",
      "Stat: chamfer-L1 (mesh), 0.012198813259601593\n",
      "Stat: normals (mesh), 0.8735443937531929\n"
     ]
    }
   ],
   "source": [
    "metric = 'max'\n",
    "split = 'train'\n",
    "for obj_type in obj_types:\n",
    "    for num_objs in num_training_objs:\n",
    "            result_dir = f'{main_results_dir}/{obj_type}{num_objs}/generation/{split}/'\n",
    "            print(f'\\nCurrently looking at {num_objs}, {split}')\n",
    "            df = pd.read_pickle(result_dir + 'eval_input_full.pkl')\n",
    "            df_descr = df.describe()\n",
    "            stats = ['iou (mesh)', 'chamfer-L1 (mesh)', 'normals (mesh)']\n",
    "            for stat in stats: \n",
    "                if stat == 'chamfer-L1 (mesh)' and metric == 'max':\n",
    "                    val = df_descr[stat]['min']\n",
    "                    print(f'Stat: {stat}, {val}')\n",
    "                else: print(f'Stat: {stat}, {df_descr[stat][metric]}')"
   ]
  },
  {
   "cell_type": "code",
   "execution_count": 6,
   "metadata": {},
   "outputs": [
    {
     "name": "stdout",
     "output_type": "stream",
     "text": [
      "\n",
      "Currently looking at 1, test\n",
      "Stat: iou (mesh), 0.073\n",
      "Stat: chamfer-L1 (mesh), 0.08\n",
      "Stat: normals (mesh), 0.599\n",
      "\n",
      "Currently looking at 2, test\n",
      "Stat: iou (mesh), 0.064\n",
      "Stat: chamfer-L1 (mesh), 0.086\n",
      "Stat: normals (mesh), 0.604\n",
      "\n",
      "Currently looking at 100, test\n",
      "Stat: iou (mesh), 0.12\n",
      "Stat: chamfer-L1 (mesh), 0.083\n",
      "Stat: normals (mesh), 0.652\n",
      "\n",
      "Currently looking at 1000, test\n",
      "Stat: iou (mesh), 0.117\n",
      "Stat: chamfer-L1 (mesh), 0.086\n",
      "Stat: normals (mesh), 0.661\n",
      "\n",
      "Currently looking at 4000, test\n",
      "Stat: iou (mesh), 0.115\n",
      "Stat: chamfer-L1 (mesh), 0.088\n",
      "Stat: normals (mesh), 0.658\n"
     ]
    }
   ],
   "source": [
    "metric = 'mean'\n",
    "split = 'test'\n",
    "for obj_type in obj_types:\n",
    "    for num_objs in num_training_objs:\n",
    "            result_dir = f'{main_results_dir}/{obj_type}{num_objs}/generation/{split}/'\n",
    "            print(f'\\nCurrently looking at {num_objs}, {split}')\n",
    "            df = pd.read_pickle(result_dir + 'eval_input_full.pkl')\n",
    "            df_descr = df.describe()\n",
    "            stats = ['iou (mesh)', 'chamfer-L1 (mesh)', 'normals (mesh)']\n",
    "            for stat in stats: \n",
    "                if stat == 'chamfer-L1 (mesh)' and metric == 'max':val = df_descr[stat]['min'] \n",
    "                else: val = df_descr[stat][metric]\n",
    "                print(f'Stat: {stat}, {val.round(3)}')"
   ]
  },
  {
   "cell_type": "code",
   "execution_count": 7,
   "metadata": {},
   "outputs": [
    {
     "name": "stdout",
     "output_type": "stream",
     "text": [
      "\n",
      "Currently looking at 1, test\n",
      "Stat: iou (mesh), 0.248\n",
      "Stat: chamfer-L1 (mesh), 0.034\n",
      "Stat: normals (mesh), 0.745\n",
      "\n",
      "Currently looking at 2, test\n",
      "Stat: iou (mesh), 0.296\n",
      "Stat: chamfer-L1 (mesh), 0.038\n",
      "Stat: normals (mesh), 0.752\n",
      "\n",
      "Currently looking at 100, test\n",
      "Stat: iou (mesh), 0.696\n",
      "Stat: chamfer-L1 (mesh), 0.02\n",
      "Stat: normals (mesh), 0.861\n",
      "\n",
      "Currently looking at 1000, test\n",
      "Stat: iou (mesh), 0.715\n",
      "Stat: chamfer-L1 (mesh), 0.018\n",
      "Stat: normals (mesh), 0.868\n",
      "\n",
      "Currently looking at 4000, test\n",
      "Stat: iou (mesh), 0.598\n",
      "Stat: chamfer-L1 (mesh), 0.019\n",
      "Stat: normals (mesh), 0.86\n"
     ]
    }
   ],
   "source": [
    "metric = 'max'\n",
    "split = 'test'\n",
    "for obj_type in obj_types:\n",
    "    for num_objs in num_training_objs:\n",
    "            result_dir = f'{main_results_dir}/{obj_type}{num_objs}/generation/{split}/'\n",
    "            print(f'\\nCurrently looking at {num_objs}, {split}')\n",
    "            df = pd.read_pickle(result_dir + 'eval_input_full.pkl')\n",
    "            df_descr = df.describe()\n",
    "            stats = ['iou (mesh)', 'chamfer-L1 (mesh)', 'normals (mesh)']\n",
    "            for stat in stats: \n",
    "                if stat == 'chamfer-L1 (mesh)' and metric == 'max':val = df_descr[stat]['min'] \n",
    "                else: val = df_descr[stat][metric]\n",
    "                print(f'Stat: {stat}, {val.round(3)}')"
   ]
  },
  {
   "cell_type": "code",
   "execution_count": 16,
   "metadata": {},
   "outputs": [],
   "source": [
    "num_objs = 2\n",
    "result_dir = f'{main_results_dir}/chairs{num_objs}/generation/train/'\n",
    "df = pd.read_pickle(result_dir+ 'eval_input_full.pkl')"
   ]
  },
  {
   "cell_type": "code",
   "execution_count": 17,
   "metadata": {},
   "outputs": [
    {
     "data": {
      "text/plain": [
       "['78f5b44157269f99fd60059ad8523f1a']"
      ]
     },
     "execution_count": 17,
     "metadata": {},
     "output_type": "execute_result"
    }
   ],
   "source": [
    "obj_names = list(df['modelname'][:2])\n",
    "obj_names"
   ]
  },
  {
   "cell_type": "code",
   "execution_count": 4,
   "metadata": {},
   "outputs": [],
   "source": [
    "def plot_gt(obj_name, ax,\n",
    "            view_file = '023.jpg', shapenet_dir='/om/user/katiemc/occupancy_networks/data/ShapeNet/03001627/'):\n",
    "    \n",
    "    img = cv2.imread(f'{shapenet_dir}{obj_name}/img_choy2016/{view_file}')\n",
    "    ax.imshow(img)\n",
    "    ax.set_yticklabels([])\n",
    "    ax.set_xticklabels([])\n",
    "    ax.set_frame_on(False)\n",
    "    ax.tick_params(top=False, left=False, bottom=False, right=False)\n",
    "\n",
    "def plot_rendering(mesh_dir, obj_name, ax,\n",
    "                  view_idx=0):\n",
    "    # help rotating image: https://stackoverflow.com/questions/31401812/matplotlib-rotate-image-file-by-x-degrees\n",
    "    img = Image.open(f'{mesh_dir}{obj_name}_{view_idx}.png')\n",
    "    if view_idx == 0: img = img.rotate(90) # Rotates counter clock-wise.\n",
    "    ax.imshow(img)\n",
    "    ax.set_yticklabels([])\n",
    "    ax.set_xticklabels([])\n",
    "    ax.set_frame_on(False)\n",
    "    ax.tick_params(top=False, left=False, bottom=False, right=False)\n",
    "    \n",
    "def plot_uncond_sample(img_path, ax,rotate=True):\n",
    "    # help rotating image: https://stackoverflow.com/questions/31401812/matplotlib-rotate-image-file-by-x-degrees\n",
    "    img = Image.open(img_path)\n",
    "    if rotate: img = img.rotate(90) # Rotates counter clock-wise.\n",
    "    ax.imshow(img)\n",
    "    ax.set_yticklabels([])\n",
    "    ax.set_xticklabels([])\n",
    "    ax.set_frame_on(False)\n",
    "    ax.tick_params(top=False, left=False, bottom=False, right=False)"
   ]
  },
  {
   "cell_type": "code",
   "execution_count": 84,
   "metadata": {},
   "outputs": [
    {
     "name": "stdout",
     "output_type": "stream",
     "text": [
      "y:  1\n",
      "y:  1\n",
      "y:  2\n",
      "y:  2\n",
      "y:  3\n",
      "y:  3\n",
      "y:  4\n",
      "y:  4\n",
      "y:  5\n",
      "y:  5\n"
     ]
    }
   ],
   "source": [
    "# gridspec help: https://matplotlib.org/stable/tutorials/intermediate/gridspec.html\n",
    "\n",
    "view_idxs = [0,1]\n",
    "split= 'train'\n",
    "\n",
    "rows = len(view_idxs)\n",
    "cols = len(num_training_objs) + 1 \n",
    "\n",
    "f = plt.figure(figsize=(6, 2), dpi=600)\n",
    "gs0 = gridspec.GridSpec(1, cols, figure=f)\n",
    "\n",
    "for y in range(cols):\n",
    "    if y == 0: # ground truth\n",
    "        ax = f.add_subplot(gs0[0, y])\n",
    "        plot_gt(obj_names[0], ax)\n",
    "    else: \n",
    "        # create another grid spec for objs\n",
    "        gs00 = gridspec.GridSpecFromSubplotSpec(rows, 1, subplot_spec=gs0[0, y],\n",
    "                                               wspace=0.025, hspace=-0.3)\n",
    "        for internal_row, view_idx in enumerate(view_idxs): \n",
    "            ax = f.add_subplot(gs00[internal_row, 0])\n",
    "            num_objs = num_training_objs[y-1]\n",
    "            mesh_dir = f'{main_results_dir}/{obj_type}{num_objs}/generation/{split}/meshes/03001627/'\n",
    "            plot_rendering(mesh_dir, obj_names[0], ax, view_idx= view_idx)\n",
    "            if internal_row==0: ax.set_title(f'{num_objs}')\n",
    "            ax.axis('off')\n",
    "plt.axis('off')\n",
    "plt.close(f)\n",
    "f.tight_layout()\n",
    "f.savefig('./rocking_chair.png', bbox='tight', bbox_inches='tight', pad_inches=0.)"
   ]
  },
  {
   "cell_type": "code",
   "execution_count": 86,
   "metadata": {},
   "outputs": [],
   "source": [
    "view_idxs = [0,1]\n",
    "split= 'train'\n",
    "\n",
    "show_training_objs = [2,4000]\n",
    "\n",
    "rows = len(view_idxs)\n",
    "cols = len(show_training_objs) + 1 \n",
    "    \n",
    "obj_name = obj_names[1]\n",
    "\n",
    "f = plt.figure(figsize=(5, 2), dpi=600)\n",
    "gs0 = gridspec.GridSpec(1, cols, figure=f)\n",
    "\n",
    "for y in range(cols):\n",
    "    if y == 0: # ground truth\n",
    "        ax = f.add_subplot(gs0[0, y])\n",
    "        plot_gt(obj_name, ax)\n",
    "    else: \n",
    "        # create another grid spec for objs\n",
    "        gs00 = gridspec.GridSpecFromSubplotSpec(rows, 1, subplot_spec=gs0[0, y],\n",
    "                                               wspace=0.025, hspace=-0.3)\n",
    "        for internal_row, view_idx in enumerate(view_idxs): \n",
    "            ax = f.add_subplot(gs00[internal_row, 0])\n",
    "            num_objs = show_training_objs[y-1]\n",
    "            mesh_dir = f'{main_results_dir}/{obj_type}{num_objs}/generation/{split}/meshes/03001627/'\n",
    "            plot_rendering(mesh_dir, obj_name, ax, view_idx= view_idx)\n",
    "            if internal_row==0: ax.set_title(f'{num_objs}')\n",
    "            ax.axis('off')\n",
    "plt.axis('off')\n",
    "plt.close(f)\n",
    "f.tight_layout()\n",
    "f.savefig('./overfit_2obj.png', bbox='tight', bbox_inches='tight', pad_inches=0.)"
   ]
  },
  {
   "cell_type": "code",
   "execution_count": 18,
   "metadata": {},
   "outputs": [],
   "source": [
    "obj_type = 'chairs'\n",
    "result_dir = f'{main_results_dir}/{obj_type}{num_objs}/generation/test/'\n",
    "df = pd.read_pickle(result_dir+ 'eval_input_full.pkl')\n",
    "obj_names = list(df['modelname'])"
   ]
  },
  {
   "cell_type": "code",
   "execution_count": 21,
   "metadata": {},
   "outputs": [],
   "source": [
    "# test reconstructions - each row is a diff sample\n",
    "view_idx = 0 # use consistent view \n",
    "split= 'test'\n",
    "\n",
    "objs = [1,2,3,5] # no particular reason for selection (random sort), but avoid color distortion gt for plotting \n",
    "\n",
    "rows = len(objs)\n",
    "cols = len(num_training_objs) + 1 \n",
    "\n",
    "f = plt.figure(figsize=(6, 2), dpi=600)\n",
    "gs0 = gridspec.GridSpec(1, cols, figure=f)\n",
    "\n",
    "for y in range(cols):\n",
    "    gs00 = gridspec.GridSpecFromSubplotSpec(rows, 1, subplot_spec=gs0[0, y],\n",
    "                                               wspace=0.025, hspace=-0.3)\n",
    "    for internal_row in range(rows): \n",
    "        obj_name = obj_names[objs[internal_row]]\n",
    "        if y == 0: # ground truth\n",
    "            ax = f.add_subplot(gs00[internal_row, 0])\n",
    "            plot_gt(obj_name, ax)\n",
    "        else: \n",
    "            ax = f.add_subplot(gs00[internal_row, 0])\n",
    "            num_objs = num_training_objs[y-1]\n",
    "            mesh_dir = f'{main_results_dir}/{obj_type}{num_objs}/generation/{split}/meshes/03001627/'\n",
    "            plot_rendering(mesh_dir, obj_name, ax, view_idx= view_idx)\n",
    "            if internal_row==0: ax.set_title(f'{num_objs}')\n",
    "            ax.axis('off')\n",
    "plt.axis('off')\n",
    "plt.close(f)\n",
    "f.tight_layout()\n",
    "f.savefig('./test_reconstructions.png', bbox='tight', bbox_inches='tight', pad_inches=0.)"
   ]
  },
  {
   "cell_type": "code",
   "execution_count": 30,
   "metadata": {},
   "outputs": [],
   "source": [
    "# test reconstructions - each row is a diff sample\n",
    "view_idxs = [0,1] # use consistent view \n",
    "split= 'test'\n",
    "\n",
    "objs = [1,2,5,7] # no particular reason for selection (random sort), but avoid color distortion gt for plotting \n",
    "\n",
    "rows = len(objs)\n",
    "cols = len(num_training_objs) + 1 \n",
    "\n",
    "f = plt.figure(figsize=(6, 2), dpi=600)\n",
    "gs0 = gridspec.GridSpec(1, cols, figure=f)\n",
    "\n",
    "for y in range(cols):\n",
    "    if y == 0: \n",
    "        gs00 = gridspec.GridSpecFromSubplotSpec(rows, 1, subplot_spec=gs0[0, y],\n",
    "                                                   wspace=0.025, hspace=-0.3)\n",
    "        for internal_row in range(rows): \n",
    "            obj_name = obj_names[objs[internal_row]]\n",
    "            ax = f.add_subplot(gs00[internal_row, 0])\n",
    "            plot_gt(obj_name, ax)\n",
    "    else: \n",
    "        gs00 = gridspec.GridSpecFromSubplotSpec(rows, len(view_idxs), subplot_spec=gs0[0, y],\n",
    "                                                   wspace=0.025, hspace=-0.3)\n",
    "        for internal_row in range(rows):\n",
    "            obj_name = obj_names[objs[internal_row]]\n",
    "            for internal_col, view_idx in enumerate(view_idxs):\n",
    "                ax = f.add_subplot(gs00[internal_row, internal_col])\n",
    "                num_objs = num_training_objs[y-1]\n",
    "                mesh_dir = f'{main_results_dir}/{obj_type}{num_objs}/generation/{split}/meshes/03001627/'\n",
    "                plot_rendering(mesh_dir, obj_name, ax, view_idx= view_idx)\n",
    "                if internal_row==0 and internal_col==0: ax.set_title(f'{num_objs}')\n",
    "                ax.axis('off')\n",
    "plt.axis('off')\n",
    "plt.close(f)\n",
    "f.tight_layout()\n",
    "f.savefig('./test_reconstructions.png', bbox='tight', bbox_inches='tight', pad_inches=0.)"
   ]
  },
  {
   "cell_type": "code",
   "execution_count": 43,
   "metadata": {},
   "outputs": [
    {
     "name": "stdout",
     "output_type": "stream",
     "text": [
      "uncond_path:  /om/user/katiemc/occupancy_networks/out/unconditional/chairs1/uncond_gen/uncond_sample_0_0.png\n",
      "uncond_path:  /om/user/katiemc/occupancy_networks/out/unconditional/chairs2/uncond_gen/uncond_sample_0_0.png\n",
      "uncond_path:  /om/user/katiemc/occupancy_networks/out/unconditional/chairs100/uncond_gen/uncond_sample_0_0.png\n",
      "uncond_path:  /om/user/katiemc/occupancy_networks/out/unconditional/chairs1000/uncond_gen/uncond_sample_0_0.png\n",
      "uncond_path:  /om/user/katiemc/occupancy_networks/out/unconditional/chairs4000/uncond_gen/uncond_sample_0_0.png\n",
      "uncond_path:  /om/user/katiemc/occupancy_networks/out/unconditional/chairs1/uncond_gen/uncond_sample_1_0.png\n",
      "uncond_path:  /om/user/katiemc/occupancy_networks/out/unconditional/chairs2/uncond_gen/uncond_sample_1_0.png\n",
      "uncond_path:  /om/user/katiemc/occupancy_networks/out/unconditional/chairs100/uncond_gen/uncond_sample_1_0.png\n",
      "uncond_path:  /om/user/katiemc/occupancy_networks/out/unconditional/chairs1000/uncond_gen/uncond_sample_1_0.png\n",
      "uncond_path:  /om/user/katiemc/occupancy_networks/out/unconditional/chairs4000/uncond_gen/uncond_sample_1_0.png\n",
      "uncond_path:  /om/user/katiemc/occupancy_networks/out/unconditional/chairs1/uncond_gen/uncond_sample_2_0.png\n",
      "uncond_path:  /om/user/katiemc/occupancy_networks/out/unconditional/chairs2/uncond_gen/uncond_sample_2_0.png\n",
      "uncond_path:  /om/user/katiemc/occupancy_networks/out/unconditional/chairs100/uncond_gen/uncond_sample_2_0.png\n",
      "uncond_path:  /om/user/katiemc/occupancy_networks/out/unconditional/chairs1000/uncond_gen/uncond_sample_2_0.png\n",
      "uncond_path:  /om/user/katiemc/occupancy_networks/out/unconditional/chairs4000/uncond_gen/uncond_sample_2_0.png\n",
      "uncond_path:  /om/user/katiemc/occupancy_networks/out/unconditional/chairs1/uncond_gen/uncond_sample_3_0.png\n",
      "uncond_path:  /om/user/katiemc/occupancy_networks/out/unconditional/chairs2/uncond_gen/uncond_sample_3_0.png\n",
      "uncond_path:  /om/user/katiemc/occupancy_networks/out/unconditional/chairs100/uncond_gen/uncond_sample_3_0.png\n",
      "uncond_path:  /om/user/katiemc/occupancy_networks/out/unconditional/chairs1000/uncond_gen/uncond_sample_3_0.png\n",
      "uncond_path:  /om/user/katiemc/occupancy_networks/out/unconditional/chairs4000/uncond_gen/uncond_sample_3_0.png\n",
      "uncond_path:  /om/user/katiemc/occupancy_networks/out/unconditional/chairs1/uncond_gen/uncond_sample_4_0.png\n",
      "uncond_path:  /om/user/katiemc/occupancy_networks/out/unconditional/chairs2/uncond_gen/uncond_sample_4_0.png\n",
      "uncond_path:  /om/user/katiemc/occupancy_networks/out/unconditional/chairs100/uncond_gen/uncond_sample_4_0.png\n",
      "uncond_path:  /om/user/katiemc/occupancy_networks/out/unconditional/chairs1000/uncond_gen/uncond_sample_4_0.png\n",
      "uncond_path:  /om/user/katiemc/occupancy_networks/out/unconditional/chairs4000/uncond_gen/uncond_sample_4_0.png\n"
     ]
    }
   ],
   "source": [
    "# test reconstructions - each row is a diff sample\n",
    "view_idx = 0# use consistent view \n",
    "rows = 5 # number of unconditional samples to show\n",
    "cols = len(num_training_objs)\n",
    "\n",
    "f = plt.figure(figsize=(5, 4), dpi=600)\n",
    "gs0 = gridspec.GridSpec(rows, cols, figure=f)\n",
    "\n",
    "for x in range(rows):\n",
    "    for y in range(cols):\n",
    "        ax = f.add_subplot(gs0[x, y])\n",
    "        num_objs = num_training_objs[y]\n",
    "        uncond_path = f'{main_results_dir}/{obj_type}{num_objs}/uncond_gen/uncond_sample_{x}_{view_idx}.png'\n",
    "        print(\"uncond_path: \", uncond_path)\n",
    "        plot_uncond_sample(uncond_path, ax, rotate=view_idx==0)\n",
    "        if x ==0: ax.set_title(f'{num_objs}')\n",
    "        ax.axis('off')\n",
    "# plt.show()\n",
    "plt.axis('off')\n",
    "plt.close(f)\n",
    "f.tight_layout()\n",
    "f.savefig('./uncond_samples.png', bbox='tight', bbox_inches='tight', pad_inches=0.)"
   ]
  },
  {
   "cell_type": "code",
   "execution_count": 18,
   "metadata": {},
   "outputs": [
    {
     "name": "stdout",
     "output_type": "stream",
     "text": [
      "\n",
      "Currently looking at 1, train\n",
      "Stat: iou (mesh), 0.24841168522834778\n",
      "Stat: chamfer-L1 (mesh), 0.03321806341409683\n",
      "Stat: normals (mesh), 0.641760019448943\n",
      "\n",
      "Currently looking at 2, train\n",
      "Stat: iou (mesh), 0.48140802793204784\n",
      "Stat: chamfer-L1 (mesh), 0.03463382879272103\n",
      "Stat: normals (mesh), 0.7749867046885377\n",
      "\n",
      "Currently looking at 100, train\n",
      "Stat: iou (mesh), 0.11314231862779707\n",
      "Stat: chamfer-L1 (mesh), 0.07924444941803813\n",
      "Stat: normals (mesh), 0.6546527310292666\n"
     ]
    }
   ],
   "source": [
    "# re-run specific low-data cases\n",
    "main_results_dir = '/om/user/katiemc/occupancy_networks/out/unconditional'\n",
    "num_training_objs = [1,2,100]\n",
    "obj_types = ['chairs'] \n",
    "metric = 'mean'\n",
    "split = 'train'\n",
    "for obj_type in obj_types:\n",
    "    for num_objs in num_training_objs:\n",
    "            result_dir = f'{main_results_dir}/{obj_type}{num_objs}_repeat/generation/{split}/'\n",
    "            print(f'\\nCurrently looking at {num_objs}, {split}')\n",
    "            df = pd.read_pickle(result_dir + 'eval_input_full.pkl')\n",
    "            df_descr = df.describe()\n",
    "            stats = ['iou (mesh)', 'chamfer-L1 (mesh)', 'normals (mesh)']\n",
    "            for stat in stats: print(f'Stat: {stat}, {df_descr[stat][metric]}')"
   ]
  },
  {
   "cell_type": "code",
   "execution_count": 19,
   "metadata": {},
   "outputs": [
    {
     "ename": "FileNotFoundError",
     "evalue": "[Errno 2] No such file or directory: '/om/user/katiemc/occupancy_networks/out/unconditional/chairs1_repeat/generation/train/meshes/03001627/78f5b44157269f99fd60059ad8523f1a_0.png'",
     "output_type": "error",
     "traceback": [
      "\u001b[0;31m---------------------------------------------------------------------------\u001b[0m",
      "\u001b[0;31mFileNotFoundError\u001b[0m                         Traceback (most recent call last)",
      "\u001b[0;32m<ipython-input-19-1dd137c731c1>\u001b[0m in \u001b[0;36m<module>\u001b[0;34m\u001b[0m\n\u001b[1;32m     22\u001b[0m             \u001b[0mnum_objs\u001b[0m \u001b[0;34m=\u001b[0m \u001b[0mnum_training_objs\u001b[0m\u001b[0;34m[\u001b[0m\u001b[0my\u001b[0m\u001b[0;34m-\u001b[0m\u001b[0;36m1\u001b[0m\u001b[0;34m]\u001b[0m\u001b[0;34m\u001b[0m\u001b[0;34m\u001b[0m\u001b[0m\n\u001b[1;32m     23\u001b[0m             \u001b[0mmesh_dir\u001b[0m \u001b[0;34m=\u001b[0m \u001b[0;34mf'{main_results_dir}/{obj_type}{num_objs}_repeat/generation/{split}/meshes/03001627/'\u001b[0m\u001b[0;34m\u001b[0m\u001b[0;34m\u001b[0m\u001b[0m\n\u001b[0;32m---> 24\u001b[0;31m             \u001b[0mplot_rendering\u001b[0m\u001b[0;34m(\u001b[0m\u001b[0mmesh_dir\u001b[0m\u001b[0;34m,\u001b[0m \u001b[0mobj_names\u001b[0m\u001b[0;34m[\u001b[0m\u001b[0;36m0\u001b[0m\u001b[0;34m]\u001b[0m\u001b[0;34m,\u001b[0m \u001b[0max\u001b[0m\u001b[0;34m,\u001b[0m \u001b[0mview_idx\u001b[0m\u001b[0;34m=\u001b[0m \u001b[0mview_idx\u001b[0m\u001b[0;34m)\u001b[0m\u001b[0;34m\u001b[0m\u001b[0;34m\u001b[0m\u001b[0m\n\u001b[0m\u001b[1;32m     25\u001b[0m             \u001b[0;32mif\u001b[0m \u001b[0minternal_row\u001b[0m\u001b[0;34m==\u001b[0m\u001b[0;36m0\u001b[0m\u001b[0;34m:\u001b[0m \u001b[0max\u001b[0m\u001b[0;34m.\u001b[0m\u001b[0mset_title\u001b[0m\u001b[0;34m(\u001b[0m\u001b[0;34mf'{num_objs}'\u001b[0m\u001b[0;34m)\u001b[0m\u001b[0;34m\u001b[0m\u001b[0;34m\u001b[0m\u001b[0m\n\u001b[1;32m     26\u001b[0m             \u001b[0max\u001b[0m\u001b[0;34m.\u001b[0m\u001b[0maxis\u001b[0m\u001b[0;34m(\u001b[0m\u001b[0;34m'off'\u001b[0m\u001b[0;34m)\u001b[0m\u001b[0;34m\u001b[0m\u001b[0;34m\u001b[0m\u001b[0m\n",
      "\u001b[0;32m<ipython-input-4-b41a5b5ab05b>\u001b[0m in \u001b[0;36mplot_rendering\u001b[0;34m(mesh_dir, obj_name, ax, view_idx)\u001b[0m\n\u001b[1;32m     12\u001b[0m                   view_idx=0):\n\u001b[1;32m     13\u001b[0m     \u001b[0;31m# help rotating image: https://stackoverflow.com/questions/31401812/matplotlib-rotate-image-file-by-x-degrees\u001b[0m\u001b[0;34m\u001b[0m\u001b[0;34m\u001b[0m\u001b[0;34m\u001b[0m\u001b[0m\n\u001b[0;32m---> 14\u001b[0;31m     \u001b[0mimg\u001b[0m \u001b[0;34m=\u001b[0m \u001b[0mImage\u001b[0m\u001b[0;34m.\u001b[0m\u001b[0mopen\u001b[0m\u001b[0;34m(\u001b[0m\u001b[0;34mf'{mesh_dir}{obj_name}_{view_idx}.png'\u001b[0m\u001b[0;34m)\u001b[0m\u001b[0;34m\u001b[0m\u001b[0;34m\u001b[0m\u001b[0m\n\u001b[0m\u001b[1;32m     15\u001b[0m     \u001b[0;32mif\u001b[0m \u001b[0mview_idx\u001b[0m \u001b[0;34m==\u001b[0m \u001b[0;36m0\u001b[0m\u001b[0;34m:\u001b[0m \u001b[0mimg\u001b[0m \u001b[0;34m=\u001b[0m \u001b[0mimg\u001b[0m\u001b[0;34m.\u001b[0m\u001b[0mrotate\u001b[0m\u001b[0;34m(\u001b[0m\u001b[0;36m90\u001b[0m\u001b[0;34m)\u001b[0m \u001b[0;31m# Rotates counter clock-wise.\u001b[0m\u001b[0;34m\u001b[0m\u001b[0;34m\u001b[0m\u001b[0m\n\u001b[1;32m     16\u001b[0m     \u001b[0max\u001b[0m\u001b[0;34m.\u001b[0m\u001b[0mimshow\u001b[0m\u001b[0;34m(\u001b[0m\u001b[0mimg\u001b[0m\u001b[0;34m)\u001b[0m\u001b[0;34m\u001b[0m\u001b[0;34m\u001b[0m\u001b[0m\n",
      "\u001b[0;32m~/.conda/envs/prob_srn/lib/python3.7/site-packages/PIL/Image.py\u001b[0m in \u001b[0;36mopen\u001b[0;34m(fp, mode)\u001b[0m\n\u001b[1;32m   2768\u001b[0m \u001b[0;34m\u001b[0m\u001b[0m\n\u001b[1;32m   2769\u001b[0m     \u001b[0;32mif\u001b[0m \u001b[0mfilename\u001b[0m\u001b[0;34m:\u001b[0m\u001b[0;34m\u001b[0m\u001b[0;34m\u001b[0m\u001b[0m\n\u001b[0;32m-> 2770\u001b[0;31m         \u001b[0mfp\u001b[0m \u001b[0;34m=\u001b[0m \u001b[0mbuiltins\u001b[0m\u001b[0;34m.\u001b[0m\u001b[0mopen\u001b[0m\u001b[0;34m(\u001b[0m\u001b[0mfilename\u001b[0m\u001b[0;34m,\u001b[0m \u001b[0;34m\"rb\"\u001b[0m\u001b[0;34m)\u001b[0m\u001b[0;34m\u001b[0m\u001b[0;34m\u001b[0m\u001b[0m\n\u001b[0m\u001b[1;32m   2771\u001b[0m         \u001b[0mexclusive_fp\u001b[0m \u001b[0;34m=\u001b[0m \u001b[0;32mTrue\u001b[0m\u001b[0;34m\u001b[0m\u001b[0;34m\u001b[0m\u001b[0m\n\u001b[1;32m   2772\u001b[0m \u001b[0;34m\u001b[0m\u001b[0m\n",
      "\u001b[0;31mFileNotFoundError\u001b[0m: [Errno 2] No such file or directory: '/om/user/katiemc/occupancy_networks/out/unconditional/chairs1_repeat/generation/train/meshes/03001627/78f5b44157269f99fd60059ad8523f1a_0.png'"
     ]
    },
    {
     "data": {
      "image/png": "[encoded data removed]",
      "text/plain": [
       "<Figure size 3600x1200 with 2 Axes>"
      ]
     },
     "metadata": {
      "needs_background": "light"
     },
     "output_type": "display_data"
    }
   ],
   "source": [
    "# gridspec help: https://matplotlib.org/stable/tutorials/intermediate/gridspec.html\n",
    "\n",
    "view_idxs = [0,1]\n",
    "split= 'train'\n",
    "\n",
    "rows = len(view_idxs)\n",
    "cols = len(num_training_objs) + 1 \n",
    "\n",
    "f = plt.figure(figsize=(6, 2), dpi=600)\n",
    "gs0 = gridspec.GridSpec(1, cols, figure=f)\n",
    "\n",
    "for y in range(cols):\n",
    "    if y == 0: # ground truth\n",
    "        ax = f.add_subplot(gs0[0, y])\n",
    "        plot_gt(obj_names[0], ax)\n",
    "    else: \n",
    "        # create another grid spec for objs\n",
    "        gs00 = gridspec.GridSpecFromSubplotSpec(rows, 1, subplot_spec=gs0[0, y],\n",
    "                                               wspace=0.025, hspace=-0.3)\n",
    "        for internal_row, view_idx in enumerate(view_idxs): \n",
    "            ax = f.add_subplot(gs00[internal_row, 0])\n",
    "            num_objs = num_training_objs[y-1]\n",
    "            mesh_dir = f'{main_results_dir}/{obj_type}{num_objs}_repeat/generation/{split}/meshes/03001627/'\n",
    "            plot_rendering(mesh_dir, obj_names[0], ax, view_idx= view_idx)\n",
    "            if internal_row==0: ax.set_title(f'{num_objs}')\n",
    "            ax.axis('off')\n",
    "plt.axis('off')\n",
    "plt.close(f)\n",
    "f.tight_layout()\n",
    "f.savefig('./rerunSingle.png', bbox='tight', bbox_inches='tight', pad_inches=0.)"
   ]
  },
  {
   "cell_type": "code",
   "execution_count": null,
   "metadata": {},
   "outputs": [],
   "source": []
  }
 ],
 "metadata": {
  "kernelspec": {
   "display_name": "Python 3",
   "language": "python",
   "name": "python3"
  },
  "language_info": {
   "codemirror_mode": {
    "name": "ipython",
    "version": 3
   },
   "file_extension": ".py",
   "mimetype": "text/x-python",
   "name": "python",
   "nbconvert_exporter": "python",
   "pygments_lexer": "ipython3",
   "version": "3.7.4"
  }
 },
 "nbformat": 4,
 "nbformat_minor": 4
}
