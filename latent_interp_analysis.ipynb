{
 "cells": [
  {
   "cell_type": "code",
   "execution_count": 1,
   "metadata": {},
   "outputs": [],
   "source": [
    "'''\n",
    "Notebook for latent interpolation + analysis\n",
    "'''\n",
    "import imageio\n",
    "import numpy as np\n",
    "import os\n",
    "\n",
    "from PIL import Image\n",
    "import matplotlib.pyplot as plt\n",
    "import matplotlib.gridspec as gridspec\n",
    "\n",
    "import pandas as pd\n",
    "import numpy as np\n",
    "\n",
    "import cv2"
   ]
  },
  {
   "cell_type": "code",
   "execution_count": 2,
   "metadata": {},
   "outputs": [],
   "source": [
    "# from other notebooks\n",
    "def plot_gt(obj_name, ax,\n",
    "            view_file = '023.jpg', shapenet_dir='/om/user/katiemc/occupancy_networks/data/ShapeNet/'):\n",
    "    \n",
    "    img = cv2.imread(f'{shapenet_dir}{obj_name}/img_choy2016/{view_file}')\n",
    "    ax.imshow(img)\n",
    "    ax.set_yticklabels([])\n",
    "    ax.set_xticklabels([])\n",
    "    ax.set_frame_on(False)\n",
    "    ax.tick_params(top=False, left=False, bottom=False, right=False)\n",
    "\n",
    "def plot_rendering(mesh_dir, obj_name, ax,\n",
    "                  view_idx=0):\n",
    "    # help rotating image: https://stackoverflow.com/questions/31401812/matplotlib-rotate-image-file-by-x-degrees\n",
    "    img = Image.open(f'{mesh_dir}{obj_name}_{view_idx}.png')\n",
    "    if view_idx == 0: img = img.rotate(90) # Rotates counter clock-wise.\n",
    "    ax.imshow(img)\n",
    "    ax.set_yticklabels([])\n",
    "    ax.set_xticklabels([])\n",
    "    ax.set_frame_on(False)\n",
    "    ax.tick_params(top=False, left=False, bottom=False, right=False)\n",
    "    \n",
    "def plot_uncond_sample(img_path, ax,rotate=True):\n",
    "    # help rotating image: https://stackoverflow.com/questions/31401812/matplotlib-rotate-image-file-by-x-degrees\n",
    "    img = Image.open(img_path)\n",
    "    if rotate: img = img.rotate(90) # Rotates counter clock-wise.\n",
    "    ax.imshow(img)\n",
    "    ax.set_yticklabels([])\n",
    "    ax.set_xticklabels([])\n",
    "    ax.set_frame_on(False)\n",
    "    ax.tick_params(top=False, left=False, bottom=False, right=False)"
   ]
  },
  {
   "cell_type": "code",
   "execution_count": 3,
   "metadata": {},
   "outputs": [],
   "source": [
    "main_results_dir = '/om/user/katiemc/occupancy_networks/out/unconditional'\n",
    "\n",
    "# for now, specify specific directory/model for which ran interpolation \n",
    "model_dir = 'chairs100'\n",
    "\n",
    "interp_dir = f'{main_results_dir}/{model_dir}/interp_dir'"
   ]
  },
  {
   "cell_type": "code",
   "execution_count": 4,
   "metadata": {},
   "outputs": [
    {
     "name": "stdout",
     "output_type": "stream",
     "text": [
      "['interp_91_490_0_1.png', 'interp_886_1284_4_1.png', 'interp_660_441_4_2.png', 'interp_1160_459_0_0.png', 'interp_187_1091_1_2.png', 'interp_1077_610_0_0.png', 'interp_977_1281_3_1.png', 'interp_1160_459_2_0.png', 'interp_1160_459_4_1.png', 'interp_660_441_4_1.png', 'interp_567_941_1_0.png', 'interp_795_1281_2_0.png', 'interp_916_192_4_1.png', 'interp_886_1284_4_2.png', 'interp_886_1284_1_0.png', 'interp_1160_459_2_2.png', 'interp_187_1091_1_1.png', 'interp_1077_610_3_0.png', 'interp_1150_879_4_0.png', 'interp_886_1284_3_1.png', 'interp_977_1281_2_0.png', 'interp_567_941_3_0.png', 'interp_703_1218_3_2.png', 'interp_1077_610_1_2.png', 'interp_886_1284_0_1.png', 'interp_703_1218_0_1.png', 'interp_977_1281_0_1.png', 'interp_660_441_3_0.png', 'interp_91_490_0_2.png', 'interp_187_1091_2_0.png', 'interp_795_1281_0_2.png', 'interp_703_1218_1_2.png', 'interp_1150_879_1_2.png', 'interp_187_1091_4_0.png', 'interp_1160_459_4_0.png', 'interp_916_192_0_2.png', 'interp_703_1218_2_2.png', 'interp_187_1091_3_2.png', 'interp_795_1281_4_1.png', 'interp_795_1281_4_0.png', 'interp_567_941_4_2.png', 'interp_703_1218_4_1.png', 'interp_91_490_1_2.png', 'interp_916_192_4_2.png', 'interp_1150_879_3_0.png', 'interp_1077_610_2_1.png', 'interp_795_1281_2_2.png', 'interp_977_1281_1_0.png', 'interp_91_490_4_0.png', 'interp_916_192_3_0.png', 'interp_886_1284_2_1.png', 'interp_660_441_1_0.png', 'interp_703_1218_4_2.png', 'interp_1160_459_2_1.png', 'interp_1077_610_1_0.png', 'interp_91_490_4_2.png', 'interp_886_1284_4_0.png', 'interp_916_192_1_0.png', 'interp_1077_610_3_2.png', 'interp_91_490_2_1.png', 'interp_187_1091_2_1.png', 'interp_916_192_0_1.png', 'interp_703_1218_2_1.png', 'interp_660_441_1_1.png', 'interp_660_441_0_1.png', 'interp_795_1281_3_0.png', 'interp_795_1281_1_2.png', 'interp_567_941_2_1.png', 'interp_977_1281_2_2.png', 'interp_187_1091_1_0.png', 'interp_1160_459_3_1.png', 'interp_567_941_0_0.png', 'interp_795_1281_0_1.png', 'interp_1150_879_3_2.png', 'interp_916_192_2_0.png', 'interp_187_1091_3_0.png', 'interp_1160_459_0_1.png', 'interp_660_441_0_2.png', 'interp_977_1281_2_1.png', 'interp_886_1284_0_0.png', 'interp_660_441_3_1.png', 'interp_916_192_3_1.png', 'interp_187_1091_0_0.png', 'interp_660_441_2_2.png', 'interp_1150_879_0_2.png', 'interp_187_1091_3_1.png', 'interp_703_1218_1_0.png', 'interp_795_1281_3_2.png', 'interp_886_1284_2_2.png', 'interp_1150_879_1_0.png', 'interp_1160_459_3_0.png', 'interp_660_441_2_0.png', 'interp_703_1218_0_0.png', 'interp_91_490_2_2.png', 'interp_567_941_4_0.png', 'interp_567_941_2_0.png', 'interp_795_1281_0_0.png', 'interp_1077_610_1_1.png', 'interp_1077_610_4_1.png', 'interp_1160_459_1_0.png', 'interp_1150_879_4_1.png', 'interp_91_490_1_1.png', 'interp_187_1091_2_2.png', 'interp_703_1218_3_0.png', 'interp_1077_610_2_2.png', 'interp_1077_610_3_1.png', 'interp_977_1281_0_0.png', 'interp_1077_610_4_2.png', 'interp_567_941_4_1.png', 'interp_977_1281_1_2.png', 'interp_91_490_3_0.png', 'interp_1160_459_3_2.png', 'interp_187_1091_0_2.png', 'interp_795_1281_2_1.png', 'interp_1150_879_2_2.png', 'interp_1150_879_0_0.png', 'interp_886_1284_0_2.png', 'interp_1150_879_4_2.png', 'interp_916_192_0_0.png', 'interp_91_490_2_0.png', 'interp_567_941_0_1.png', 'interp_1160_459_1_1.png', 'interp_795_1281_1_0.png', 'interp_977_1281_1_1.png', 'interp_660_441_1_2.png', 'interp_703_1218_1_1.png', 'interp_567_941_3_2.png', 'interp_567_941_0_2.png', 'interp_1150_879_2_0.png', 'interp_187_1091_0_1.png', 'interp_660_441_0_0.png', 'interp_916_192_2_1.png', 'interp_977_1281_0_2.png', 'interp_660_441_2_1.png', 'interp_916_192_4_0.png', 'interp_567_941_1_2.png', 'interp_886_1284_3_2.png', 'interp_1077_610_0_1.png', 'interp_91_490_0_0.png', 'interp_1150_879_2_1.png', 'interp_703_1218_3_1.png', 'interp_886_1284_3_0.png', 'interp_1150_879_3_1.png', 'interp_91_490_1_0.png', 'interp_916_192_3_2.png', 'interp_1077_610_4_0.png', 'interp_1150_879_0_1.png', 'interp_660_441_3_2.png', 'interp_1160_459_4_2.png', 'interp_916_192_1_1.png', 'interp_567_941_1_1.png', 'interp_703_1218_0_2.png', 'interp_795_1281_3_1.png', 'interp_1160_459_1_2.png', 'interp_1150_879_1_1.png', 'interp_886_1284_1_2.png', 'interp_91_490_3_2.png', 'interp_1160_459_0_2.png', 'interp_187_1091_4_1.png', 'interp_795_1281_4_2.png', 'interp_795_1281_1_1.png', 'interp_567_941_2_2.png', 'interp_187_1091_4_2.png', 'interp_91_490_3_1.png', 'interp_703_1218_2_0.png', 'interp_567_941_3_1.png', 'interp_660_441_4_0.png', 'interp_1077_610_0_2.png', 'interp_886_1284_2_0.png', 'interp_1077_610_2_0.png', 'interp_91_490_4_1.png', 'interp_977_1281_3_0.png', 'interp_916_192_1_2.png', 'interp_916_192_2_2.png', 'interp_703_1218_4_0.png', 'interp_886_1284_1_1.png']\n"
     ]
    }
   ],
   "source": [
    "interp_imgs = [f for f in os.listdir(interp_dir) if f[-3:] == \"png\"]\n",
    "print(interp_imgs)"
   ]
  },
  {
   "cell_type": "code",
   "execution_count": 5,
   "metadata": {},
   "outputs": [],
   "source": [
    "obj_pairings = ['886_1284', '1150_879']\n",
    "view_idx = 0\n",
    "num_interp = 5"
   ]
  },
  {
   "cell_type": "code",
   "execution_count": 6,
   "metadata": {},
   "outputs": [],
   "source": [
    "rows = len(obj_pairings)\n",
    "cols = num_interp\n",
    "\n",
    "f = plt.figure(figsize=(5, 2), dpi=600)\n",
    "gs0 = gridspec.GridSpec(rows, cols, figure=f)\n",
    "\n",
    "for x in range(rows): # over diff obj pairs\n",
    "    obj_pairing = obj_pairings[x]\n",
    "    for y in range(cols): # col = interp step \n",
    "        ax = f.add_subplot(gs0[x, y])\n",
    "        # need to rotate if view idx is 0 \n",
    "        plot_uncond_sample(f'{interp_dir}/interp_{obj_pairing}_{y}_{view_idx}.png', ax, rotate=view_idx is 0) \n",
    "        ax.axis('off')\n",
    "#     else: \n",
    "#         for internal_row, view_idx in enumerate(view_idxs): \n",
    "#             ax = f.add_subplot(gs00[internal_row, 0])\n",
    "#             num_objs = show_training_objs[y-1]\n",
    "#             mesh_dir = f'{main_results_dir}/{obj_type}{num_objs}/generation/{split}/meshes/03001627/'\n",
    "#             plot_rendering(mesh_dir, obj_name, ax, view_idx= view_idx)\n",
    "#             if internal_row==0: ax.set_title(f'{num_objs}')\n",
    "#             ax.axis('off')\n",
    "plt.axis('off')\n",
    "plt.close(f)\n",
    "f.tight_layout()\n",
    "f.savefig('./latent_interp.png', bbox='tight', bbox_inches='tight', pad_inches=0.)"
   ]
  },
  {
   "cell_type": "code",
   "execution_count": 12,
   "metadata": {},
   "outputs": [
    {
     "data": {
      "text/plain": [
       "True"
      ]
     },
     "execution_count": 12,
     "metadata": {},
     "output_type": "execute_result"
    }
   ],
   "source": [
    "view_idx is 0"
   ]
  },
  {
   "cell_type": "code",
   "execution_count": 5,
   "metadata": {},
   "outputs": [
    {
     "name": "stdout",
     "output_type": "stream",
     "text": [
      "['interp_795_828_2_2.png', 'interp_795_828_2_1.png', 'interp_234_885_1_2.png', 'interp_1227_1585_3_0.png', 'interp_795_828_0_2.png', 'interp_1016_1452_0_0.png', 'interp_234_885_2_0.png', 'interp_987_1986_0_1.png', 'interp_447_677_1_0.png', 'interp_1016_1452_1_0.png', 'interp_234_885_1_1.png', 'interp_1227_1585_1_2.png', 'interp_1016_1452_0_1.png', 'interp_1227_1585_4_1.png', 'interp_447_677_3_0.png', 'interp_795_828_4_1.png', 'interp_1895_2118_0_0.png', 'interp_1016_1452_4_1.png', 'interp_1227_1585_0_0.png', 'interp_1227_1585_2_1.png', 'interp_234_885_2_2.png', 'interp_1025_106_4_0.png', 'interp_1895_2118_2_0.png', 'interp_1025_106_2_2.png', 'interp_234_885_2_1.png', 'interp_1016_1452_4_2.png', 'interp_1895_2118_4_2.png', 'interp_1016_1452_3_2.png', 'interp_1895_2118_4_1.png', 'interp_1227_1585_4_0.png', 'interp_795_828_0_0.png', 'interp_447_677_4_0.png', 'interp_447_677_2_2.png', 'interp_447_677_4_1.png', 'interp_234_885_1_0.png', 'interp_1895_2118_1_1.png', 'interp_234_885_3_2.png', 'interp_447_677_2_0.png', 'interp_1016_1452_3_1.png', 'interp_1016_1452_2_2.png', 'interp_447_677_2_1.png', 'interp_1025_106_3_0.png', 'interp_1025_106_1_2.png', 'interp_1227_1585_2_2.png', 'interp_234_885_0_1.png', 'interp_795_828_3_1.png', 'interp_234_885_4_2.png', 'interp_795_828_2_0.png', 'interp_447_677_0_1.png', 'interp_1016_1452_4_0.png', 'interp_1025_106_4_1.png', 'interp_447_677_0_0.png', 'interp_234_885_0_2.png', 'interp_1227_1585_3_1.png', 'interp_1025_106_1_0.png', 'interp_987_1986_0_2.png', 'interp_447_677_1_1.png', 'interp_1025_106_1_1.png', 'interp_1025_106_0_1.png', 'interp_234_885_0_0.png', 'interp_795_828_4_2.png', 'interp_1016_1452_1_1.png', 'interp_1895_2118_3_1.png', 'interp_447_677_1_2.png', 'interp_1025_106_4_2.png', 'interp_1016_1452_2_0.png', 'interp_1025_106_0_2.png', 'interp_1227_1585_4_2.png', 'interp_447_677_0_2.png', 'interp_1227_1585_3_2.png', 'interp_795_828_1_1.png', 'interp_1025_106_3_1.png', 'interp_1895_2118_2_2.png', 'interp_987_1986_1_0.png', 'interp_1016_1452_2_1.png', 'interp_1025_106_3_2.png', 'interp_234_885_3_0.png', 'interp_1895_2118_0_1.png', 'interp_1227_1585_0_1.png', 'interp_795_828_3_2.png', 'interp_1025_106_2_1.png', 'interp_1895_2118_2_1.png', 'interp_795_828_1_0.png', 'interp_234_885_4_1.png', 'interp_1895_2118_0_2.png', 'interp_795_828_4_0.png', 'interp_795_828_1_2.png', 'interp_447_677_4_2.png', 'interp_987_1986_0_0.png', 'interp_1227_1585_2_0.png', 'interp_1016_1452_0_2.png', 'interp_1227_1585_1_1.png', 'interp_1025_106_2_0.png', 'interp_987_1986_1_1.png', 'interp_795_828_3_0.png', 'interp_1227_1585_0_2.png', 'interp_234_885_4_0.png', 'interp_1227_1585_1_0.png', 'interp_1895_2118_3_0.png', 'interp_447_677_3_2.png', 'interp_1016_1452_3_0.png', 'interp_1025_106_0_0.png', 'interp_1895_2118_1_0.png', 'interp_795_828_0_1.png', 'interp_1895_2118_1_2.png', 'interp_447_677_3_1.png', 'interp_234_885_3_1.png', 'interp_1016_1452_1_2.png', 'interp_1895_2118_4_0.png', 'interp_1895_2118_3_2.png']\n"
     ]
    }
   ],
   "source": [
    "model_dir = 'airplane_chair_100per'\n",
    "\n",
    "interp_dir = f'{main_results_dir}/{model_dir}/interp_dir'\n",
    "\n",
    "interp_imgs = [f for f in os.listdir(interp_dir) if f[-3:] == \"png\"]\n",
    "print(interp_imgs)"
   ]
  },
  {
   "cell_type": "code",
   "execution_count": 13,
   "metadata": {},
   "outputs": [],
   "source": [
    "obj_pairings = ['1016_1452', '795_828']#, '234_885', '447_677', '1227_1585']\n",
    "view_idx = 0\n",
    "num_interp = 5\n",
    "\n",
    "rows = len(obj_pairings)\n",
    "cols = num_interp\n",
    "\n",
    "f = plt.figure(figsize=(5, 2), dpi=600)\n",
    "gs0 = gridspec.GridSpec(rows, cols, figure=f)\n",
    "\n",
    "for x in range(rows): # over diff obj pairs\n",
    "    obj_pairing = obj_pairings[x]\n",
    "    for y in range(cols): # col = interp step \n",
    "        ax = f.add_subplot(gs0[x, y])\n",
    "        # need to rotate if view idx is 0 \n",
    "        plot_uncond_sample(f'{interp_dir}/interp_{obj_pairing}_{y}_{view_idx}.png', ax, rotate=view_idx is 0) \n",
    "        ax.axis('off')\n",
    "#     else: \n",
    "#         for internal_row, view_idx in enumerate(view_idxs): \n",
    "#             ax = f.add_subplot(gs00[internal_row, 0])\n",
    "#             num_objs = show_training_objs[y-1]\n",
    "#             mesh_dir = f'{main_results_dir}/{obj_type}{num_objs}/generation/{split}/meshes/03001627/'\n",
    "#             plot_rendering(mesh_dir, obj_name, ax, view_idx= view_idx)\n",
    "#             if internal_row==0: ax.set_title(f'{num_objs}')\n",
    "#             ax.axis('off')\n",
    "plt.axis('off')\n",
    "plt.close(f)\n",
    "f.tight_layout()\n",
    "f.savefig('./latent_interp_multiObj.png', bbox='tight', bbox_inches='tight', pad_inches=0.)"
   ]
  },
  {
   "cell_type": "code",
   "execution_count": 10,
   "metadata": {},
   "outputs": [
    {
     "data": {
      "text/plain": [
       "4"
      ]
     },
     "execution_count": 10,
     "metadata": {},
     "output_type": "execute_result"
    }
   ],
   "source": [
    "rows"
   ]
  },
  {
   "cell_type": "code",
   "execution_count": null,
   "metadata": {},
   "outputs": [],
   "source": []
  }
 ],
 "metadata": {
  "kernelspec": {
   "display_name": "Python 3",
   "language": "python",
   "name": "python3"
  },
  "language_info": {
   "codemirror_mode": {
    "name": "ipython",
    "version": 3
   },
   "file_extension": ".py",
   "mimetype": "text/x-python",
   "name": "python",
   "nbconvert_exporter": "python",
   "pygments_lexer": "ipython3",
   "version": "3.7.4"
  }
 },
 "nbformat": 4,
 "nbformat_minor": 4
}
